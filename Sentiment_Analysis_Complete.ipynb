{
 "cells": [
  {
   "cell_type": "markdown",
   "id": "f9e934d4",
   "metadata": {},
   "source": [
    "# Sentiment Analysis on Product Reviews\n",
    "\n",
    "This notebook covers the complete workflow for sentiment analysis on product reviews, including data loading, preprocessing, feature engineering, model training (classical ML, LSTM, BERT), and evaluation."
   ]
  },
  {
   "cell_type": "markdown",
   "id": "b60a0a0b",
   "metadata": {},
   "source": [
    "# 1. Data Loading and Preprocessing\n",
    "\n",
    "This section loads the raw product reviews dataset, performs cleaning, removes duplicates, filters out neutral reviews, and creates binary sentiment labels."
   ]
  },
  {
   "cell_type": "code",
   "execution_count": 13,
   "id": "d72b3085",
   "metadata": {},
   "outputs": [
    {
     "name": "stdout",
     "output_type": "stream",
     "text": [
      "Loading dataset from: data\\Reviews.csv\n",
      "Dataset loaded in 8.44 seconds.\n",
      "Initial shape: (568454, 10)\n",
      "Shape after dropping rows with missing Text/Score: (568454, 10)\n",
      "Removed 174521 duplicate entries.\n",
      "Shape after removing duplicates: (393933, 10)\n",
      "Shape after removing neutral reviews: (364164, 10)\n",
      "\n",
      "Preprocessing complete.\n",
      "Final dataset shape: (364164, 2)\n",
      "\n",
      "Value counts for Sentiment:\n",
      "Sentiment\n",
      "1    307056\n",
      "0     57108\n",
      "Name: count, dtype: int64\n",
      "Preprocessed data saved to: data\\preprocessed_reviews.csv\n"
     ]
    }
   ],
   "source": [
    "import pandas as pd\n",
    "import os\n",
    "import time\n",
    "import numpy as np\n",
    "\n",
    "# Define correct paths (fix double 'data' and use forward slashes for cross-platform compatibility)\n",
    "data_path = os.path.join('data', 'Reviews.csv')\n",
    "output_path = os.path.join('data', 'preprocessed_reviews.csv')\n",
    "\n",
    "if not os.path.exists(data_path):\n",
    "    print(f'Error: Dataset file not found at {data_path}')\n",
    "else:\n",
    "    print(f'Loading dataset from: {data_path}')\n",
    "    start_time = time.time()\n",
    "    df = pd.read_csv(data_path, usecols=['Id', 'ProductId', 'UserId', 'ProfileName', 'HelpfulnessNumerator', 'HelpfulnessDenominator', 'Score', 'Time', 'Summary', 'Text'])\n",
    "    print(f'Dataset loaded in {time.time() - start_time:.2f} seconds.')\n",
    "    print(f'Initial shape: {df.shape}')\n",
    "    \n",
    "    # 1. Handle Missing Values\n",
    "    df.dropna(subset=['Text', 'Score'], inplace=True)\n",
    "    print(f\"Shape after dropping rows with missing Text/Score: {df.shape}\")\n",
    "    \n",
    "    # 2. Remove Duplicates\n",
    "    initial_shape = df.shape\n",
    "    df.drop_duplicates(subset=['UserId', 'ProfileName', 'Time', 'Text'], keep='first', inplace=True)\n",
    "    print(f\"Removed {initial_shape[0] - df.shape[0]} duplicate entries.\")\n",
    "    print(f\"Shape after removing duplicates: {df.shape}\")\n",
    "    \n",
    "    # 3. Filter out neutral reviews (Score = 3)\n",
    "    df_filtered = df[df['Score'] != 3].copy()\n",
    "    print(f\"Shape after removing neutral reviews: {df_filtered.shape}\")\n",
    "    \n",
    "    # 4. Create Sentiment Label\n",
    "    df_filtered['Sentiment'] = df_filtered['Score'].apply(lambda x: 1 if x > 3 else 0)\n",
    "    \n",
    "    # 5. Select Relevant Columns\n",
    "    df_final = df_filtered[['Text', 'Sentiment']].copy()\n",
    "    print(\"\\nPreprocessing complete.\")\n",
    "    print(f\"Final dataset shape: {df_final.shape}\")\n",
    "    print(\"\\nValue counts for Sentiment:\")\n",
    "    print(df_final['Sentiment'].value_counts())\n",
    "    \n",
    "    # Save the preprocessed data\n",
    "    df_final.to_csv(output_path, index=False)\n",
    "    print(f\"Preprocessed data saved to: {output_path}\")"
   ]
  },
  {
   "cell_type": "markdown",
   "id": "632650f8",
   "metadata": {},
   "source": [
    "# 2. Feature Engineering\n",
    "\n",
    "This section generates features for model training using three approaches: TF-IDF, Word2Vec, and BERT embeddings."
   ]
  },
  {
   "cell_type": "code",
   "execution_count": 9,
   "id": "b290a752",
   "metadata": {},
   "outputs": [
    {
     "name": "stdout",
     "output_type": "stream",
     "text": [
      "TF-IDF features generated and saved.\n"
     ]
    }
   ],
   "source": [
    "# --- TF-IDF Feature Engineering ---\n",
    "import joblib\n",
    "from sklearn.model_selection import train_test_split\n",
    "from sklearn.feature_extraction.text import TfidfVectorizer\n",
    "\n",
    "preprocessed_file = os.path.join('data', 'preprocessed_reviews.csv')\n",
    "output_dir = 'processed_data'\n",
    "vectorizer_path = os.path.join(output_dir, 'tfidf_vectorizer.joblib')\n",
    "X_train_path = os.path.join(output_dir, 'X_train.joblib')\n",
    "X_test_path = os.path.join(output_dir, 'X_test.joblib')\n",
    "y_train_path = os.path.join(output_dir, 'y_train.joblib')\n",
    "y_test_path = os.path.join(output_dir, 'y_test.joblib')\n",
    "\n",
    "os.makedirs(output_dir, exist_ok=True)\n",
    "\n",
    "df = pd.read_csv(preprocessed_file)\n",
    "X = df['Text']\n",
    "y = df['Sentiment']\n",
    "\n",
    "X_train, X_test, y_train, y_test = train_test_split(X, y, test_size=0.2, random_state=42, stratify=y)\n",
    "\n",
    "vectorizer = TfidfVectorizer(max_features=10000, ngram_range=(1,2), stop_words='english')\n",
    "X_train_tfidf = vectorizer.fit_transform(X_train)\n",
    "X_test_tfidf = vectorizer.transform(X_test)\n",
    "\n",
    "joblib.dump(vectorizer, vectorizer_path)\n",
    "joblib.dump(X_train_tfidf, X_train_path)\n",
    "joblib.dump(X_test_tfidf, X_test_path)\n",
    "joblib.dump(y_train, y_train_path)\n",
    "joblib.dump(y_test, y_test_path)\n",
    "print(\"TF-IDF features generated and saved.\")"
   ]
  },
  {
   "cell_type": "markdown",
   "id": "b0a2f668",
   "metadata": {},
   "source": [
    "## 3. Model Training and Evaluation\n",
    "### Logistic Regression, Naive Bayes, Random Forest, SVM, XGBoost, LSTM, BERT\n",
    "Each model will be trained and evaluated. Results (accuracy, confusion matrix, classification report) will be displayed."
   ]
  },
  {
   "cell_type": "code",
   "execution_count": 5,
   "id": "fda11d95",
   "metadata": {},
   "outputs": [
    {
     "name": "stdout",
     "output_type": "stream",
     "text": [
      "Logistic Regression Accuracy: 0.9294001345543915\n",
      "              precision    recall  f1-score   support\n",
      "\n",
      "           0       0.85      0.67      0.75     11422\n",
      "           1       0.94      0.98      0.96     61411\n",
      "\n",
      "    accuracy                           0.93     72833\n",
      "   macro avg       0.90      0.82      0.85     72833\n",
      "weighted avg       0.93      0.93      0.93     72833\n",
      "\n"
     ]
    },
    {
     "data": {
      "image/png": "[encoded data removed]",
      "text/plain": [
       "<Figure size 640x480 with 2 Axes>"
      ]
     },
     "metadata": {},
     "output_type": "display_data"
    }
   ],
   "source": [
    "# --- Logistic Regression ---\n",
    "from sklearn.linear_model import LogisticRegression\n",
    "from sklearn.metrics import classification_report, accuracy_score, confusion_matrix\n",
    "import seaborn as sns\n",
    "import matplotlib.pyplot as plt\n",
    "\n",
    "X_train = joblib.load(X_train_path)\n",
    "X_test = joblib.load(X_test_path)\n",
    "y_train = joblib.load(y_train_path)\n",
    "y_test = joblib.load(y_test_path)\n",
    "\n",
    "log_reg = LogisticRegression(random_state=42, max_iter=1000, solver='liblinear')\n",
    "log_reg.fit(X_train, y_train)\n",
    "y_pred = log_reg.predict(X_test)\n",
    "print(\"Logistic Regression Accuracy:\", accuracy_score(y_test, y_pred))\n",
    "print(classification_report(y_test, y_pred))\n",
    "cm = confusion_matrix(y_test, y_pred)\n",
    "sns.heatmap(cm, annot=True, fmt='d', cmap='Blues')\n",
    "plt.title('Confusion Matrix - Logistic Regression')\n",
    "plt.show()"
   ]
  },
  {
   "cell_type": "markdown",
   "id": "06f20413",
   "metadata": {},
   "source": [
    "# 2.1 Word2Vec Feature Engineering\n",
    "\n",
    "Generate document embeddings using Word2Vec for each review. These features will be used for classical ML models."
   ]
  },
  {
   "cell_type": "code",
   "execution_count": 10,
   "id": "6f3f9536",
   "metadata": {},
   "outputs": [
    {
     "name": "stdout",
     "output_type": "stream",
     "text": [
      "Word2Vec model saved to: processed_data\\word2vec_model.model\n",
      "Word2Vec features generated and saved.\n"
     ]
    }
   ],
   "source": [
    "from gensim.models import Word2Vec\n",
    "import numpy as np\n",
    "\n",
    "def tokenize(text):\n",
    "    return str(text).lower().split()\n",
    "\n",
    "df['tokens'] = df['Text'].apply(tokenize)\n",
    "vector_size = 100\n",
    "window = 5\n",
    "min_count = 5\n",
    "workers = 4\n",
    "w2v_model = Word2Vec(sentences=df['tokens'], vector_size=vector_size, window=window, min_count=min_count, workers=workers)\n",
    "w2v_model_path = os.path.join(output_dir, 'word2vec_model.model')\n",
    "w2v_model.save(w2v_model_path)\n",
    "print(f\"Word2Vec model saved to: {w2v_model_path}\")\n",
    "\n",
    "def document_vector(tokens, model, vector_size):\n",
    "    valid_tokens = [token for token in tokens if token in model.wv]\n",
    "    if not valid_tokens:\n",
    "        return np.zeros(vector_size)\n",
    "    return np.mean(model.wv[valid_tokens], axis=0)\n",
    "\n",
    "X_w2v = np.vstack([document_vector(tokens, w2v_model, vector_size) for tokens in df['tokens']])\n",
    "X_train_w2v, X_test_w2v, y_train_w2v, y_test_w2v = train_test_split(X_w2v, y, test_size=0.2, random_state=42, stratify=y)\n",
    "import joblib\n",
    "joblib.dump(X_train_w2v, os.path.join(output_dir, 'X_train_w2v.joblib'))\n",
    "joblib.dump(X_test_w2v, os.path.join(output_dir, 'X_test_w2v.joblib'))\n",
    "joblib.dump(y_train_w2v, os.path.join(output_dir, 'y_train_w2v.joblib'))\n",
    "joblib.dump(y_test_w2v, os.path.join(output_dir, 'y_test_w2v.joblib'))\n",
    "print(\"Word2Vec features generated and saved.\")"
   ]
  },
  {
   "cell_type": "markdown",
   "id": "444c47ff",
   "metadata": {},
   "source": [
    "# 2.2 BERT Feature Engineering\n",
    "\n",
    "Extract BERT embeddings for each review using a pre-trained BERT model. These features are suitable for advanced ML models."
   ]
  },
  {
   "cell_type": "code",
   "execution_count": 11,
   "id": "3147a26a",
   "metadata": {},
   "outputs": [
    {
     "name": "stderr",
     "output_type": "stream",
     "text": [
      "c:\\Users\\HP\\OneDrive\\Desktop\\IIT Delhi\\Major Project\\Sentiment Analysis on Product Reviews\\.venv\\Lib\\site-packages\\tqdm\\auto.py:21: TqdmWarning: IProgress not found. Please update jupyter and ipywidgets. See https://ipywidgets.readthedocs.io/en/stable/user_install.html\n",
      "  from .autonotebook import tqdm as notebook_tqdm\n",
      "Processing reviews: 100%|██████████| 1000/1000 [05:28<00:00,  3.04it/s]"
     ]
    },
    {
     "name": "stdout",
     "output_type": "stream",
     "text": [
      "BERT features generated and saved.\n"
     ]
    },
    {
     "name": "stderr",
     "output_type": "stream",
     "text": [
      "\n"
     ]
    }
   ],
   "source": [
    "import torch\n",
    "from transformers import BertTokenizer, BertModel\n",
    "from tqdm import tqdm\n",
    "\n",
    "sample_size = 1000  # Reduce for demo; increase for full run\n",
    "df_bert = df.sample(n=min(sample_size, len(df)), random_state=42)\n",
    "tokenizer = BertTokenizer.from_pretrained('bert-base-uncased')\n",
    "model = BertModel.from_pretrained('bert-base-uncased')\n",
    "device = torch.device('cuda' if torch.cuda.is_available() else 'cpu')\n",
    "model = model.to(device)\n",
    "model.eval()\n",
    "\n",
    "def get_bert_embedding(text, tokenizer, model, device):\n",
    "    inputs = tokenizer(text, return_tensors='pt', truncation=True, padding='max_length', max_length=128)\n",
    "    inputs = {k: v.to(device) for k, v in inputs.items()}\n",
    "    with torch.no_grad():\n",
    "        outputs = model(**inputs)\n",
    "    return outputs.last_hidden_state[:,0,:].cpu().numpy().flatten()\n",
    "\n",
    "embeddings = []\n",
    "for text in tqdm(df_bert['Text'], desc=\"Processing reviews\"):\n",
    "    embedding = get_bert_embedding(text, tokenizer, model, device)\n",
    "    embeddings.append(embedding)\n",
    "X_bert = np.vstack(embeddings)\n",
    "y_bert = df_bert['Sentiment'].values\n",
    "from sklearn.model_selection import train_test_split\n",
    "X_train_bert, X_test_bert, y_train_bert, y_test_bert = train_test_split(X_bert, y_bert, test_size=0.2, random_state=42, stratify=y_bert)\n",
    "import joblib\n",
    "joblib.dump(X_train_bert, os.path.join(output_dir, 'X_train_bert.joblib'))\n",
    "joblib.dump(X_test_bert, os.path.join(output_dir, 'X_test_bert.joblib'))\n",
    "joblib.dump(y_train_bert, os.path.join(output_dir, 'y_train_bert.joblib'))\n",
    "joblib.dump(y_test_bert, os.path.join(output_dir, 'y_test_bert.joblib'))\n",
    "print(\"BERT features generated and saved.\")"
   ]
  },
  {
   "cell_type": "markdown",
   "id": "f6440bc3",
   "metadata": {},
   "source": [
    "# 3.1 Naive Bayes Classifier (TF-IDF)\n",
    "\n",
    "Train and evaluate a Multinomial Naive Bayes classifier using TF-IDF features."
   ]
  },
  {
   "cell_type": "code",
   "execution_count": 17,
   "id": "552d35f7",
   "metadata": {},
   "outputs": [
    {
     "name": "stdout",
     "output_type": "stream",
     "text": [
      "Naive Bayes Accuracy: 0.8957203465462085\n",
      "              precision    recall  f1-score   support\n",
      "\n",
      "           0       0.89      0.38      0.53     11422\n",
      "           1       0.90      0.99      0.94     61411\n",
      "\n",
      "    accuracy                           0.90     72833\n",
      "   macro avg       0.90      0.69      0.74     72833\n",
      "weighted avg       0.90      0.90      0.88     72833\n",
      "\n"
     ]
    },
    {
     "data": {
      "image/png": "[encoded data removed]",
      "text/plain": [
       "<Figure size 640x480 with 2 Axes>"
      ]
     },
     "metadata": {},
     "output_type": "display_data"
    }
   ],
   "source": [
    "# --- Naive Bayes Classifier (TF-IDF) ---\n",
    "import joblib\n",
    "from sklearn.naive_bayes import MultinomialNB\n",
    "from sklearn.metrics import classification_report, accuracy_score, confusion_matrix\n",
    "import seaborn as sns\n",
    "import matplotlib.pyplot as plt\n",
    "import os\n",
    "\n",
    "# Load TF-IDF features (not raw text!)\n",
    "output_dir = 'processed_data'\n",
    "X_train_path = os.path.join(output_dir, 'X_train.joblib')\n",
    "X_test_path = os.path.join(output_dir, 'X_test.joblib')\n",
    "y_train_path = os.path.join(output_dir, 'y_train.joblib')\n",
    "y_test_path = os.path.join(output_dir, 'y_test.joblib')\n",
    "\n",
    "X_train = joblib.load(X_train_path)\n",
    "X_test = joblib.load(X_test_path)\n",
    "y_train = joblib.load(y_train_path)\n",
    "y_test = joblib.load(y_test_path)\n",
    "\n",
    "nb_model = MultinomialNB()\n",
    "nb_model.fit(X_train, y_train)\n",
    "y_pred_nb = nb_model.predict(X_test)\n",
    "print(\"Naive Bayes Accuracy:\", accuracy_score(y_test, y_pred_nb))\n",
    "print(classification_report(y_test, y_pred_nb))\n",
    "cm_nb = confusion_matrix(y_test, y_pred_nb)\n",
    "sns.heatmap(cm_nb, annot=True, fmt='d', cmap='Blues')\n",
    "plt.title('Confusion Matrix - Naive Bayes')\n",
    "plt.show()"
   ]
  },
  {
   "cell_type": "markdown",
   "id": "a1288082",
   "metadata": {},
   "source": [
    "# 3.2 Random Forest Classifier (TF-IDF)\n",
    "\n",
    "Train and evaluate a Random Forest classifier using TF-IDF features."
   ]
  },
  {
   "cell_type": "code",
   "execution_count": 18,
   "id": "61967837",
   "metadata": {},
   "outputs": [
    {
     "name": "stdout",
     "output_type": "stream",
     "text": [
      "Random Forest Accuracy: 0.9053862946741175\n",
      "              precision    recall  f1-score   support\n",
      "\n",
      "           0       0.86      0.48      0.61     11422\n",
      "           1       0.91      0.99      0.95     61411\n",
      "\n",
      "    accuracy                           0.91     72833\n",
      "   macro avg       0.88      0.73      0.78     72833\n",
      "weighted avg       0.90      0.91      0.89     72833\n",
      "\n"
     ]
    },
    {
     "data": {
      "image/png": "[encoded data removed]",
      "text/plain": [
       "<Figure size 640x480 with 2 Axes>"
      ]
     },
     "metadata": {},
     "output_type": "display_data"
    }
   ],
   "source": [
    "from sklearn.ensemble import RandomForestClassifier\n",
    "rf_model = RandomForestClassifier(n_estimators=100, class_weight='balanced', random_state=42)\n",
    "rf_model.fit(X_train, y_train)\n",
    "y_pred_rf = rf_model.predict(X_test)\n",
    "print(\"Random Forest Accuracy:\", accuracy_score(y_test, y_pred_rf))\n",
    "print(classification_report(y_test, y_pred_rf))\n",
    "cm_rf = confusion_matrix(y_test, y_pred_rf)\n",
    "sns.heatmap(cm_rf, annot=True, fmt='d', cmap='Blues')\n",
    "plt.title('Confusion Matrix - Random Forest')\n",
    "plt.show()"
   ]
  },
  {
   "cell_type": "markdown",
   "id": "7b706c89",
   "metadata": {},
   "source": [
    "# 3.3 SVM Classifier (TF-IDF)\n",
    "\n",
    "Train and evaluate a Support Vector Machine classifier using TF-IDF features."
   ]
  },
  {
   "cell_type": "code",
   "execution_count": 10,
   "id": "9ff52ad4",
   "metadata": {},
   "outputs": [
    {
     "name": "stdout",
     "output_type": "stream",
     "text": [
      "SVM Accuracy: 0.9299630661925227\n",
      "              precision    recall  f1-score   support\n",
      "\n",
      "           0       0.83      0.69      0.76     11422\n",
      "           1       0.94      0.97      0.96     61411\n",
      "\n",
      "    accuracy                           0.93     72833\n",
      "   macro avg       0.89      0.83      0.86     72833\n",
      "weighted avg       0.93      0.93      0.93     72833\n",
      "\n"
     ]
    },
    {
     "data": {
      "image/png": "[encoded data removed]",
      "text/plain": [
       "<Figure size 640x480 with 2 Axes>"
      ]
     },
     "metadata": {},
     "output_type": "display_data"
    }
   ],
   "source": [
    "from sklearn.svm import LinearSVC\n",
    "from sklearn.calibration import CalibratedClassifierCV\n",
    "base_svm = LinearSVC(random_state=42, max_iter=1000, C=1.0)\n",
    "svm_model = CalibratedClassifierCV(base_svm)\n",
    "svm_model.fit(X_train, y_train)\n",
    "y_pred_svm = svm_model.predict(X_test)\n",
    "print(\"SVM Accuracy:\", accuracy_score(y_test, y_pred_svm))\n",
    "print(classification_report(y_test, y_pred_svm))\n",
    "cm_svm = confusion_matrix(y_test, y_pred_svm)\n",
    "sns.heatmap(cm_svm, annot=True, fmt='d', cmap='Blues')\n",
    "plt.title('Confusion Matrix - SVM')\n",
    "plt.show()"
   ]
  },
  {
   "cell_type": "markdown",
   "id": "deef1bad",
   "metadata": {},
   "source": [
    "# 3.4 XGBoost Classifier (TF-IDF)\n",
    "\n",
    "Train and evaluate an XGBoost classifier using TF-IDF features."
   ]
  },
  {
   "cell_type": "code",
   "execution_count": 2,
   "id": "95f9dbcd",
   "metadata": {},
   "outputs": [
    {
     "name": "stderr",
     "output_type": "stream",
     "text": [
      "c:\\Users\\HP\\OneDrive\\Desktop\\IIT Delhi\\Major Project\\Sentiment Analysis on Product Reviews\\.venv\\Lib\\site-packages\\xgboost\\training.py:183: UserWarning: [17:25:16] WARNING: C:\\actions-runner\\_work\\xgboost\\xgboost\\src\\learner.cc:738: \n",
      "Parameters: { \"use_label_encoder\" } are not used.\n",
      "\n",
      "  bst.update(dtrain, iteration=i, fobj=obj)\n"
     ]
    },
    {
     "name": "stdout",
     "output_type": "stream",
     "text": [
      "XGBoost Accuracy: 0.9070888196284651\n",
      "              precision    recall  f1-score   support\n",
      "\n",
      "           0       0.85      0.49      0.62     11422\n",
      "           1       0.91      0.98      0.95     61411\n",
      "\n",
      "    accuracy                           0.91     72833\n",
      "   macro avg       0.88      0.74      0.79     72833\n",
      "weighted avg       0.90      0.91      0.90     72833\n",
      "\n"
     ]
    },
    {
     "data": {
      "image/png": "[encoded data removed]",
      "text/plain": [
       "<Figure size 640x480 with 2 Axes>"
      ]
     },
     "metadata": {},
     "output_type": "display_data"
    }
   ],
   "source": [
    "# --- XGBoost Classifier (TF-IDF) ---\n",
    "import joblib\n",
    "import os\n",
    "import xgboost as xgb\n",
    "from sklearn.metrics import classification_report, accuracy_score, confusion_matrix\n",
    "import seaborn as sns\n",
    "import matplotlib.pyplot as plt\n",
    "\n",
    "# Define the correct paths for the TF-IDF features and labels\n",
    "output_dir = 'processed_data'\n",
    "X_train_path = os.path.join(output_dir, 'X_train.joblib')\n",
    "X_test_path = os.path.join(output_dir, 'X_test.joblib')\n",
    "y_train_path = os.path.join(output_dir, 'y_train.joblib')\n",
    "y_test_path = os.path.join(output_dir, 'y_test.joblib')\n",
    "\n",
    "X_train = joblib.load(X_train_path)\n",
    "X_test = joblib.load(X_test_path)\n",
    "y_train = joblib.load(y_train_path)\n",
    "y_test = joblib.load(y_test_path)\n",
    "\n",
    "xgb_model = xgb.XGBClassifier(n_estimators=100, random_state=42, use_label_encoder=False, eval_metric='logloss')\n",
    "xgb_model.fit(X_train, y_train)\n",
    "y_pred_xgb = xgb_model.predict(X_test)\n",
    "print(\"XGBoost Accuracy:\", accuracy_score(y_test, y_pred_xgb))\n",
    "print(classification_report(y_test, y_pred_xgb))\n",
    "cm_xgb = confusion_matrix(y_test, y_pred_xgb)\n",
    "sns.heatmap(cm_xgb, annot=True, fmt='d', cmap='Blues')\n",
    "plt.title('Confusion Matrix - XGBoost')\n",
    "plt.show()"
   ]
  },
  {
   "cell_type": "markdown",
   "id": "a7d8d31a",
   "metadata": {},
   "source": [
    "# 3.5 LSTM Model (Deep Learning)\n",
    "\n",
    "Train and evaluate an LSTM model using tokenized review sequences."
   ]
  },
  {
   "cell_type": "code",
   "execution_count": 22,
   "id": "5f0f253c",
   "metadata": {},
   "outputs": [
    {
     "name": "stderr",
     "output_type": "stream",
     "text": [
      "c:\\Users\\HP\\OneDrive\\Desktop\\IIT Delhi\\Major Project\\Sentiment Analysis on Product Reviews\\.venv\\Lib\\site-packages\\torch\\nn\\modules\\rnn.py:123: UserWarning: dropout option adds dropout after all but last recurrent layer, so non-zero dropout expects num_layers greater than 1, but got dropout=0.5 and num_layers=1\n",
      "  warnings.warn(\n"
     ]
    },
    {
     "name": "stdout",
     "output_type": "stream",
     "text": [
      "Epoch 1, Loss: 0.4445\n",
      "Epoch 2, Loss: 0.4349\n",
      "Epoch 2, Loss: 0.4349\n",
      "LSTM Test Accuracy: 0.8432\n",
      "LSTM Test Accuracy: 0.8432\n"
     ]
    }
   ],
   "source": [
    "import pandas as pd\n",
    "import numpy as np\n",
    "import torch\n",
    "import torch.nn as nn\n",
    "from collections import Counter\n",
    "import os\n",
    "\n",
    "# Always load the preprocessed data to ensure 'Sentiment' column is present\n",
    "preprocessed_file = os.path.join('data', 'preprocessed_reviews.csv')\n",
    "df = pd.read_csv(preprocessed_file)\n",
    "\n",
    "max_features = 10000\n",
    "max_len = 200\n",
    "all_words = []\n",
    "for text in df['Text']:\n",
    "    if isinstance(text, str):\n",
    "        all_words.extend(text.lower().split())\n",
    "word_counts = Counter(all_words)\n",
    "most_common = word_counts.most_common(max_features-1)\n",
    "vocab = {word: idx+1 for idx, (word, _) in enumerate(most_common)}\n",
    "vocab['<UNK>'] = len(vocab) + 1\n",
    "\n",
    "# Fix vocab_size to match the highest index in vocab\n",
    "vocab_size = max(vocab.values()) + 1\n",
    "\n",
    "def text_to_sequence(text, vocab, max_len):\n",
    "    tokens = str(text).lower().split()\n",
    "    seq = [vocab.get(token, vocab['<UNK>']) for token in tokens]\n",
    "    if len(seq) < max_len:\n",
    "        seq += [0] * (max_len - len(seq))\n",
    "    else:\n",
    "        seq = seq[:max_len]\n",
    "    return seq\n",
    "\n",
    "X_seq = np.array([text_to_sequence(text, vocab, max_len) for text in df['Text']])\n",
    "y_seq = df['Sentiment'].values\n",
    "from sklearn.model_selection import train_test_split\n",
    "X_train_seq, X_test_seq, y_train_seq, y_test_seq = train_test_split(X_seq, y_seq, test_size=0.2, random_state=42, stratify=y_seq)\n",
    "\n",
    "class LSTMModel(nn.Module):\n",
    "    def __init__(self, vocab_size, embedding_dim, hidden_dim, output_dim, dropout):\n",
    "        super().__init__()\n",
    "        self.embedding = nn.Embedding(vocab_size, embedding_dim, padding_idx=0)\n",
    "        self.lstm = nn.LSTM(embedding_dim, hidden_dim, batch_first=True, dropout=dropout)\n",
    "        self.fc1 = nn.Linear(hidden_dim, 64)\n",
    "        self.dropout = nn.Dropout(dropout)\n",
    "        self.fc2 = nn.Linear(64, output_dim)\n",
    "    def forward(self, text):\n",
    "        embedded = self.embedding(text)\n",
    "        output, (hidden, cell) = self.lstm(embedded)\n",
    "        hidden = hidden[-1, :, :]\n",
    "        dense1 = torch.relu(self.fc1(hidden))\n",
    "        drop = self.dropout(dense1)\n",
    "        output = torch.sigmoid(self.fc2(drop))\n",
    "        return output\n",
    "\n",
    "embedding_dim = 128\n",
    "hidden_dim = 128\n",
    "output_dim = 1\n",
    "dropout = 0.5\n",
    "model = LSTMModel(vocab_size, embedding_dim, hidden_dim, output_dim, dropout)\n",
    "criterion = nn.BCELoss()\n",
    "optimizer = torch.optim.Adam(model.parameters())\n",
    "\n",
    "from torch.utils.data import TensorDataset, DataLoader\n",
    "\n",
    "batch_size = 256\n",
    "\n",
    "X_train_tensor = torch.LongTensor(X_train_seq)\n",
    "y_train_tensor = torch.FloatTensor(y_train_seq).unsqueeze(1)\n",
    "train_dataset = TensorDataset(X_train_tensor, y_train_tensor)\n",
    "train_loader = DataLoader(train_dataset, batch_size=batch_size, shuffle=True)\n",
    "\n",
    "model.train()\n",
    "for epoch in range(2):  # Use more epochs for real training\n",
    "    epoch_loss = 0\n",
    "    for batch_X, batch_y in train_loader:\n",
    "        optimizer.zero_grad()\n",
    "        predictions = model(batch_X)\n",
    "        loss = criterion(predictions, batch_y)\n",
    "        loss.backward()\n",
    "        optimizer.step()\n",
    "        epoch_loss += loss.item() * batch_X.size(0)\n",
    "    avg_loss = epoch_loss / len(train_loader.dataset)\n",
    "    print(f\"Epoch {epoch+1}, Loss: {avg_loss:.4f}\")\n",
    "\n",
    "model.eval()\n",
    "X_test_tensor = torch.LongTensor(X_test_seq)\n",
    "y_test_tensor = torch.FloatTensor(y_test_seq).unsqueeze(1)\n",
    "test_dataset = TensorDataset(X_test_tensor, y_test_tensor)\n",
    "test_loader = DataLoader(test_dataset, batch_size=batch_size)\n",
    "\n",
    "correct = 0\n",
    "total = 0\n",
    "with torch.no_grad():\n",
    "    for batch_X, batch_y in test_loader:\n",
    "        preds = model(batch_X)\n",
    "        preds = (preds > 0.5).float()\n",
    "        correct += (preds == batch_y).float().sum().item()\n",
    "        total += batch_y.size(0)\n",
    "    acc = correct / total\n",
    "    print(f\"LSTM Test Accuracy: {acc:.4f}\")"
   ]
  },
  {
   "cell_type": "markdown",
   "id": "89833bf0",
   "metadata": {},
   "source": [
    "# 3.6 BERT Fine-tuning (Deep Learning)\n",
    "\n",
    "Fine-tune a BERT model for sentiment classification using the Transformers library."
   ]
  },
  {
   "cell_type": "code",
   "execution_count": 23,
   "id": "f690a0be",
   "metadata": {},
   "outputs": [
    {
     "name": "stderr",
     "output_type": "stream",
     "text": [
      "Some weights of BertForSequenceClassification were not initialized from the model checkpoint at bert-base-uncased and are newly initialized: ['classifier.bias', 'classifier.weight']\n",
      "You should probably TRAIN this model on a down-stream task to be able to use it for predictions and inference.\n"
     ]
    },
    {
     "name": "stdout",
     "output_type": "stream",
     "text": [
      "Epoch 1/1\n",
      "Train Loss: 0.4829, Train Accuracy: 0.8050\n",
      "Train Loss: 0.4829, Train Accuracy: 0.8050\n",
      "Val Loss: 0.4557, Val Accuracy: 0.8300\n",
      "              precision    recall  f1-score   support\n",
      "\n",
      "           0       0.00      0.00      0.00        17\n",
      "           1       0.83      1.00      0.91        83\n",
      "\n",
      "    accuracy                           0.83       100\n",
      "   macro avg       0.41      0.50      0.45       100\n",
      "weighted avg       0.69      0.83      0.75       100\n",
      "\n",
      "Val Loss: 0.4557, Val Accuracy: 0.8300\n",
      "              precision    recall  f1-score   support\n",
      "\n",
      "           0       0.00      0.00      0.00        17\n",
      "           1       0.83      1.00      0.91        83\n",
      "\n",
      "    accuracy                           0.83       100\n",
      "   macro avg       0.41      0.50      0.45       100\n",
      "weighted avg       0.69      0.83      0.75       100\n",
      "\n"
     ]
    },
    {
     "name": "stderr",
     "output_type": "stream",
     "text": [
      "c:\\Users\\HP\\OneDrive\\Desktop\\IIT Delhi\\Major Project\\Sentiment Analysis on Product Reviews\\.venv\\Lib\\site-packages\\sklearn\\metrics\\_classification.py:1565: UndefinedMetricWarning: Precision is ill-defined and being set to 0.0 in labels with no predicted samples. Use `zero_division` parameter to control this behavior.\n",
      "  _warn_prf(average, modifier, f\"{metric.capitalize()} is\", len(result))\n",
      "c:\\Users\\HP\\OneDrive\\Desktop\\IIT Delhi\\Major Project\\Sentiment Analysis on Product Reviews\\.venv\\Lib\\site-packages\\sklearn\\metrics\\_classification.py:1565: UndefinedMetricWarning: Precision is ill-defined and being set to 0.0 in labels with no predicted samples. Use `zero_division` parameter to control this behavior.\n",
      "  _warn_prf(average, modifier, f\"{metric.capitalize()} is\", len(result))\n",
      "c:\\Users\\HP\\OneDrive\\Desktop\\IIT Delhi\\Major Project\\Sentiment Analysis on Product Reviews\\.venv\\Lib\\site-packages\\sklearn\\metrics\\_classification.py:1565: UndefinedMetricWarning: Precision is ill-defined and being set to 0.0 in labels with no predicted samples. Use `zero_division` parameter to control this behavior.\n",
      "  _warn_prf(average, modifier, f\"{metric.capitalize()} is\", len(result))\n"
     ]
    },
    {
     "data": {
      "image/png": "[encoded data removed]",
      "text/plain": [
       "<Figure size 640x480 with 2 Axes>"
      ]
     },
     "metadata": {},
     "output_type": "display_data"
    }
   ],
   "source": [
    "from transformers import BertTokenizer, BertForSequenceClassification, get_linear_schedule_with_warmup\n",
    "from torch.utils.data import Dataset, DataLoader\n",
    "from torch.optim import AdamW\n",
    "\n",
    "class SentimentDataset(Dataset):\n",
    "    def __init__(self, texts, labels, tokenizer, max_length=128):\n",
    "        self.texts = texts\n",
    "        self.labels = labels\n",
    "        self.tokenizer = tokenizer\n",
    "        self.max_length = max_length\n",
    "    def __len__(self):\n",
    "        return len(self.texts)\n",
    "    def __getitem__(self, idx):\n",
    "        text = str(self.texts[idx]) if self.texts[idx] else \"\"\n",
    "        label = int(self.labels[idx])\n",
    "        encoding = self.tokenizer.encode_plus(\n",
    "            text,\n",
    "            add_special_tokens=True,\n",
    "            max_length=self.max_length,\n",
    "            return_token_type_ids=False,\n",
    "            padding='max_length',\n",
    "            truncation=True,\n",
    "            return_attention_mask=True,\n",
    "            return_tensors='pt'\n",
    "        )\n",
    "        return {\n",
    "            'input_ids': encoding['input_ids'].flatten(),\n",
    "            'attention_mask': encoding['attention_mask'].flatten(),\n",
    "            'labels': torch.tensor(label, dtype=torch.long)\n",
    "        }\n",
    "\n",
    "sample_size = 500  # Reduce for demo; increase for full run\n",
    "bert_df = df.sample(n=min(sample_size, len(df)), random_state=42)\n",
    "from sklearn.model_selection import train_test_split\n",
    "train_texts, test_texts, train_labels, test_labels = train_test_split(\n",
    "    bert_df['Text'].values, bert_df['Sentiment'].values, \n",
    "    test_size=0.2, random_state=42, stratify=bert_df['Sentiment']\n",
    ")\n",
    "tokenizer = BertTokenizer.from_pretrained('bert-base-uncased')\n",
    "train_dataset = SentimentDataset(train_texts, train_labels, tokenizer)\n",
    "test_dataset = SentimentDataset(test_texts, test_labels, tokenizer)\n",
    "train_dataloader = DataLoader(train_dataset, batch_size=8, shuffle=True)\n",
    "test_dataloader = DataLoader(test_dataset, batch_size=8)\n",
    "device = torch.device('cuda' if torch.cuda.is_available() else 'cpu')\n",
    "model = BertForSequenceClassification.from_pretrained('bert-base-uncased', num_labels=2)\n",
    "model = model.to(device)\n",
    "optimizer = AdamW(model.parameters(), lr=2e-5, eps=1e-8)\n",
    "epochs = 1  # Use more epochs for real training\n",
    "total_steps = len(train_dataloader) * epochs\n",
    "scheduler = get_linear_schedule_with_warmup(optimizer, num_warmup_steps=0, num_training_steps=total_steps)\n",
    "\n",
    "def train_epoch(model, dataloader, optimizer, scheduler, device):\n",
    "    model.train()\n",
    "    total_loss = 0\n",
    "    total_correct = 0\n",
    "    total_samples = 0\n",
    "    for batch in dataloader:\n",
    "        input_ids = batch['input_ids'].to(device)\n",
    "        attention_mask = batch['attention_mask'].to(device)\n",
    "        labels = batch['labels'].to(device)\n",
    "        model.zero_grad()\n",
    "        outputs = model(input_ids, attention_mask=attention_mask, labels=labels)\n",
    "        loss = outputs.loss\n",
    "        logits = outputs.logits\n",
    "        loss.backward()\n",
    "        torch.nn.utils.clip_grad_norm_(model.parameters(), 1.0)\n",
    "        optimizer.step()\n",
    "        scheduler.step()\n",
    "        preds = torch.argmax(logits, dim=1)\n",
    "        correct = (preds == labels).sum().item()\n",
    "        total_loss += loss.item() * len(labels)\n",
    "        total_correct += correct\n",
    "        total_samples += len(labels)\n",
    "    avg_loss = total_loss / total_samples\n",
    "    accuracy = total_correct / total_samples\n",
    "    return avg_loss, accuracy\n",
    "\n",
    "def evaluate(model, dataloader, device):\n",
    "    model.eval()\n",
    "    total_loss = 0\n",
    "    total_correct = 0\n",
    "    total_samples = 0\n",
    "    all_preds = []\n",
    "    all_labels = []\n",
    "    with torch.no_grad():\n",
    "        for batch in dataloader:\n",
    "            input_ids = batch['input_ids'].to(device)\n",
    "            attention_mask = batch['attention_mask'].to(device)\n",
    "            labels = batch['labels'].to(device)\n",
    "            outputs = model(input_ids, attention_mask=attention_mask, labels=labels)\n",
    "            loss = outputs.loss\n",
    "            logits = outputs.logits\n",
    "            preds = torch.argmax(logits, dim=1)\n",
    "            correct = (preds == labels).sum().item()\n",
    "            total_loss += loss.item() * len(labels)\n",
    "            total_correct += correct\n",
    "            total_samples += len(labels)\n",
    "            all_preds.extend(preds.cpu().numpy())\n",
    "            all_labels.extend(labels.cpu().numpy())\n",
    "    avg_loss = total_loss / total_samples\n",
    "    accuracy = total_correct / total_samples\n",
    "    return avg_loss, accuracy, all_preds, all_labels\n",
    "\n",
    "for epoch in range(epochs):\n",
    "    print(f\"Epoch {epoch+1}/{epochs}\")\n",
    "    train_loss, train_acc = train_epoch(model, train_dataloader, optimizer, scheduler, device)\n",
    "    print(f\"Train Loss: {train_loss:.4f}, Train Accuracy: {train_acc:.4f}\")\n",
    "    val_loss, val_acc, val_preds, val_labels = evaluate(model, test_dataloader, device)\n",
    "    print(f\"Val Loss: {val_loss:.4f}, Val Accuracy: {val_acc:.4f}\")\n",
    "    print(classification_report(val_labels, val_preds))\n",
    "    cm_bert = confusion_matrix(val_labels, val_preds)\n",
    "    import seaborn as sns\n",
    "    import matplotlib.pyplot as plt\n",
    "    sns.heatmap(cm_bert, annot=True, fmt='d', cmap='Blues')\n",
    "    plt.title('Confusion Matrix - BERT')\n",
    "    plt.show()"
   ]
  },
  {
   "cell_type": "markdown",
   "id": "4a3874f8",
   "metadata": {},
   "source": [
    "# 4. Results and Comparison\n",
    "\n",
    "Summarize and compare the performance of all models. Adjust sample sizes and epochs for full-scale experiments as needed.\n",
    "\n",
    "---\n",
    "*This notebook was auto-generated from the project's Python scripts to comply with submission guidelines.*"
   ]
  },
  {
   "cell_type": "markdown",
   "id": "9121d378",
   "metadata": {},
   "source": [
    "# 4.1 LSTM and BERT Training History and Reports\n",
    "\n",
    "Display LSTM and BERT training history, confusion matrices, and classification reports, and summarize all model reports for comparison."
   ]
  },
  {
   "cell_type": "code",
   "execution_count": 24,
   "id": "2aa5badf",
   "metadata": {},
   "outputs": [
    {
     "data": {
      "image/png": "[encoded data removed]",
      "text/plain": [
       "<Figure size 600x400 with 1 Axes>"
      ]
     },
     "metadata": {},
     "output_type": "display_data"
    },
    {
     "data": {
      "image/png": "[encoded data removed]",
      "text/plain": [
       "<Figure size 600x400 with 1 Axes>"
      ]
     },
     "metadata": {},
     "output_type": "display_data"
    },
    {
     "name": "stdout",
     "output_type": "stream",
     "text": [
      "\n",
      "LSTM Classification Report:\n",
      "LSTM Model Evaluation\n",
      "==============================\n",
      "Test Loss: 0.4323\n",
      "Test Accuracy: 0.8389\n",
      "\n",
      "Classification Report:\n",
      "              precision    recall  f1-score   support\n",
      "\n",
      "Negative (0)       0.33      0.01      0.03      1589\n",
      "Positive (1)       0.84      0.99      0.91      8411\n",
      "\n",
      "    accuracy                           0.84     10000\n",
      "   macro avg       0.59      0.50      0.47     10000\n",
      "weighted avg       0.76      0.84      0.77     10000\n",
      "\n",
      "\n",
      "Confusion Matrix:\n",
      "[[  21 1568]\n",
      " [  43 8368]]\n",
      "\n",
      "BERT Classification Report:\n",
      "BERT Fine-tuned Model Evaluation\n",
      "==============================\n",
      "Test Loss: 0.2092\n",
      "Test Accuracy: 0.9325\n",
      "\n",
      "Classification Report:\n",
      "              precision    recall  f1-score   support\n",
      "\n",
      "Negative (0)     0.8909    0.7000    0.7840        70\n",
      "Positive (1)     0.9391    0.9818    0.9600       330\n",
      "\n",
      "    accuracy                         0.9325       400\n",
      "   macro avg     0.9150    0.8409    0.8720       400\n",
      "weighted avg     0.9307    0.9325    0.9292       400\n",
      "\n",
      "\n",
      "Confusion Matrix:\n",
      "[[ 49  21]\n",
      " [  6 324]]\n"
     ]
    },
    {
     "data": {
      "image/png": "[encoded data removed]",
      "text/plain": [
       "<Figure size 400x400 with 1 Axes>"
      ]
     },
     "metadata": {},
     "output_type": "display_data"
    },
    {
     "data": {
      "image/png": "[encoded data removed]",
      "text/plain": [
       "<Figure size 400x400 with 1 Axes>"
      ]
     },
     "metadata": {},
     "output_type": "display_data"
    },
    {
     "name": "stdout",
     "output_type": "stream",
     "text": [
      "\n",
      "--- Model Performance Summary ---\n",
      "\n",
      "Bert Classification Report:\n",
      "BERT Fine-tuned Model Evaluation\n",
      "==============================\n",
      "Test Loss: 0.2092\n",
      "Test Accuracy: 0.9325\n",
      "\n",
      "Classification Report:\n",
      "              precision    recall  f1-score   support\n",
      "\n",
      "Negative (0)     0.8909    0.7000    0.7840        70\n",
      "Positive (1)     0.9391    0.9818    0.9600       330\n",
      "\n",
      "    accuracy                         0.9325       400\n",
      "   macro avg     0.9150    0.8409    0.8720       400\n",
      "weighted avg     0.9307    0.9325    0.9292       400\n",
      "\n",
      "\n",
      "Confusion Matrix:\n",
      "[[ 49  21]\n",
      " [  6 324]]\n",
      "\n",
      "Logistic Regression Classification Report:\n",
      "Logistic Regression Model Evaluation\n",
      "==============================\n",
      "Accuracy: 0.9312\n",
      "\n",
      "Classification Report:\n",
      "              precision    recall  f1-score   support\n",
      "\n",
      "Negative (0)       0.85      0.68      0.76     11422\n",
      "Positive (1)       0.94      0.98      0.96     61411\n",
      "\n",
      "    accuracy                           0.93     72833\n",
      "   macro avg       0.90      0.83      0.86     72833\n",
      "weighted avg       0.93      0.93      0.93     72833\n",
      "\n",
      "\n",
      "Confusion Matrix:\n",
      "[[ 7736  3686]\n",
      " [ 1324 60087]]\n",
      "\n",
      "Lstm Classification Report:\n",
      "LSTM Model Evaluation\n",
      "==============================\n",
      "Test Loss: 0.4323\n",
      "Test Accuracy: 0.8389\n",
      "\n",
      "Classification Report:\n",
      "              precision    recall  f1-score   support\n",
      "\n",
      "Negative (0)       0.33      0.01      0.03      1589\n",
      "Positive (1)       0.84      0.99      0.91      8411\n",
      "\n",
      "    accuracy                           0.84     10000\n",
      "   macro avg       0.59      0.50      0.47     10000\n",
      "weighted avg       0.76      0.84      0.77     10000\n",
      "\n",
      "\n",
      "Confusion Matrix:\n",
      "[[  21 1568]\n",
      " [  43 8368]]\n",
      "\n",
      "Naive Bayes Classification Report:\n",
      "Multinomial Naive Bayes Model Evaluation\n",
      "==============================\n",
      "Accuracy: 0.8968\n",
      "\n",
      "Classification Report:\n",
      "              precision    recall  f1-score   support\n",
      "\n",
      "Negative (0)       0.90      0.39      0.54     11422\n",
      "Positive (1)       0.90      0.99      0.94     61411\n",
      "\n",
      "    accuracy                           0.90     72833\n",
      "   macro avg       0.90      0.69      0.74     72833\n",
      "weighted avg       0.90      0.90      0.88     72833\n",
      "\n",
      "\n",
      "Confusion Matrix:\n",
      "[[ 4408  7014]\n",
      " [  499 60912]]\n",
      "\n",
      "Random Forest Classification Report:\n",
      "Random Forest Model Evaluation\n",
      "==============================\n",
      "Accuracy: 0.9026\n",
      "\n",
      "Classification Report:\n",
      "              precision    recall  f1-score   support\n",
      "\n",
      "Negative (0)       0.87      0.45      0.59     11422\n",
      "Positive (1)       0.91      0.99      0.94     61411\n",
      "\n",
      "    accuracy                           0.90     72833\n",
      "   macro avg       0.89      0.72      0.77     72833\n",
      "weighted avg       0.90      0.90      0.89     72833\n",
      "\n",
      "\n",
      "Confusion Matrix:\n",
      "[[ 5131  6291]\n",
      " [  800 60611]]\n",
      "\n",
      "Svm Classification Report:\n",
      "SVM Model Evaluation\n",
      "==============================\n",
      "Accuracy: 0.9326\n",
      "\n",
      "Classification Report:\n",
      "              precision    recall  f1-score   support\n",
      "\n",
      "Negative (0)       0.84      0.71      0.77     11422\n",
      "Positive (1)       0.95      0.97      0.96     61411\n",
      "\n",
      "    accuracy                           0.93     72833\n",
      "   macro avg       0.89      0.84      0.86     72833\n",
      "weighted avg       0.93      0.93      0.93     72833\n",
      "\n",
      "\n",
      "Confusion Matrix:\n",
      "[[ 8080  3342]\n",
      " [ 1567 59844]]\n",
      "\n",
      "Xgboost Classification Report:\n",
      "XGBoost Model Evaluation\n",
      "==============================\n",
      "Accuracy: 0.9081\n",
      "\n",
      "Classification Report:\n",
      "              precision    recall  f1-score   support\n",
      "\n",
      "Negative (0)       0.86      0.49      0.63     11422\n",
      "Positive (1)       0.91      0.99      0.95     61411\n",
      "\n",
      "    accuracy                           0.91     72833\n",
      "   macro avg       0.89      0.74      0.79     72833\n",
      "weighted avg       0.90      0.91      0.90     72833\n",
      "\n",
      "\n",
      "Confusion Matrix:\n",
      "[[ 5624  5798]\n",
      " [  894 60517]]\n"
     ]
    }
   ],
   "source": [
    "import matplotlib.pyplot as plt\n",
    "from PIL import Image\n",
    "import os\n",
    "\n",
    "# Display LSTM training history\n",
    "lstm_history_path = os.path.join('models', 'lstm_history.png')\n",
    "if os.path.exists(lstm_history_path):\n",
    "    img = Image.open(lstm_history_path)\n",
    "    plt.figure(figsize=(6,4))\n",
    "    plt.imshow(img)\n",
    "    plt.axis('off')\n",
    "    plt.title('LSTM Training History')\n",
    "    plt.show()\n",
    "else:\n",
    "    print('LSTM training history image not found.')\n",
    "\n",
    "# Display BERT training history\n",
    "bert_history_path = os.path.join('models', 'bert_history.png')\n",
    "if os.path.exists(bert_history_path):\n",
    "    img = Image.open(bert_history_path)\n",
    "    plt.figure(figsize=(6,4))\n",
    "    plt.imshow(img)\n",
    "    plt.axis('off')\n",
    "    plt.title('BERT Training History')\n",
    "    plt.show()\n",
    "else:\n",
    "    print('BERT training history image not found.')\n",
    "\n",
    "# Display LSTM classification report\n",
    "lstm_report_path = os.path.join('models', 'lstm_report.txt')\n",
    "if os.path.exists(lstm_report_path):\n",
    "    print('\\nLSTM Classification Report:')\n",
    "    with open(lstm_report_path, 'r') as f:\n",
    "        print(f.read())\n",
    "else:\n",
    "    print('LSTM classification report not found.')\n",
    "\n",
    "# Display BERT classification report\n",
    "bert_report_path = os.path.join('models', 'bert_report.txt')\n",
    "if os.path.exists(bert_report_path):\n",
    "    print('\\nBERT Classification Report:')\n",
    "    with open(bert_report_path, 'r') as f:\n",
    "        print(f.read())\n",
    "else:\n",
    "    print('BERT classification report not found.')\n",
    "\n",
    "# Display LSTM confusion matrix\n",
    "lstm_cm_path = os.path.join('models', 'lstm_cm.png')\n",
    "if os.path.exists(lstm_cm_path):\n",
    "    img = Image.open(lstm_cm_path)\n",
    "    plt.figure(figsize=(4,4))\n",
    "    plt.imshow(img)\n",
    "    plt.axis('off')\n",
    "    plt.title('LSTM Confusion Matrix')\n",
    "    plt.show()\n",
    "else:\n",
    "    print('LSTM confusion matrix image not found.')\n",
    "\n",
    "# Display BERT confusion matrix\n",
    "bert_cm_path = os.path.join('models', 'bert_cm.png')\n",
    "if os.path.exists(bert_cm_path):\n",
    "    img = Image.open(bert_cm_path)\n",
    "    plt.figure(figsize=(4,4))\n",
    "    plt.imshow(img)\n",
    "    plt.axis('off')\n",
    "    plt.title('BERT Confusion Matrix')\n",
    "    plt.show()\n",
    "else:\n",
    "    print('BERT confusion matrix image not found.')\n",
    "\n",
    "# Optionally, summarize results for all models\n",
    "import glob\n",
    "print('\\n--- Model Performance Summary ---')\n",
    "for report_file in glob.glob(os.path.join('models', '*_report.txt')):\n",
    "    model_name = os.path.basename(report_file).replace('_report.txt','').replace('_',' ').title()\n",
    "    print(f'\\n{model_name} Classification Report:')\n",
    "    with open(report_file, 'r') as f:\n",
    "        print(f.read())"
   ]
  }
 ],
 "metadata": {
  "kernelspec": {
   "display_name": ".venv",
   "language": "python",
   "name": "python3"
  },
  "language_info": {
   "codemirror_mode": {
    "name": "ipython",
    "version": 3
   },
   "file_extension": ".py",
   "mimetype": "text/x-python",
   "name": "python",
   "nbconvert_exporter": "python",
   "pygments_lexer": "ipython3",
   "version": "3.12.4"
  }
 },
 "nbformat": 4,
 "nbformat_minor": 5
}
